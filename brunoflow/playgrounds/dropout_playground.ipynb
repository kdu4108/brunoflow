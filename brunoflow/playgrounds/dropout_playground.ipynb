{
 "cells": [
  {
   "cell_type": "code",
   "execution_count": 1,
   "metadata": {},
   "outputs": [
    {
     "name": "stderr",
     "output_type": "stream",
     "text": [
      "/home/kevin/miniconda3/envs/jax-hf/lib/python3.9/site-packages/tqdm/auto.py:22: TqdmWarning: IProgress not found. Please update jupyter and ipywidgets. See https://ipywidgets.readthedocs.io/en/stable/user_install.html\n",
      "  from .autonotebook import tqdm as notebook_tqdm\n"
     ]
    },
    {
     "name": "stdout",
     "output_type": "stream",
     "text": [
      "output: tensor([[2., 0., 0., 2., 2., 0., 0., 2., 2., 2.],\n",
      "        [2., 0., 0., 2., 2., 2., 0., 2., 0., 0.],\n",
      "        [0., 0., 2., 2., 2., 2., 2., 0., 0., 0.]], grad_fn=<MulBackward0>)\n",
      "X: tensor([[1., 1., 1., 1., 1., 1., 1., 1., 1., 1.],\n",
      "        [1., 1., 1., 1., 1., 1., 1., 1., 1., 1.],\n",
      "        [1., 1., 1., 1., 1., 1., 1., 1., 1., 1.]], requires_grad=True)\n",
      "output grad after backprop: tensor([[1., 1., 1., 1., 1., 1., 1., 1., 1., 1.],\n",
      "        [1., 1., 1., 1., 1., 1., 1., 1., 1., 1.],\n",
      "        [1., 1., 1., 1., 1., 1., 1., 1., 1., 1.]])\n",
      "X grad after backprop: tensor([[2., 0., 0., 2., 2., 0., 0., 2., 2., 2.],\n",
      "        [2., 0., 0., 2., 2., 2., 0., 2., 0., 0.],\n",
      "        [0., 0., 2., 2., 2., 2., 2., 0., 0., 0.]])\n"
     ]
    }
   ],
   "source": [
    "import torch\n",
    "torch.manual_seed(0)\n",
    "dropout = torch.nn.Dropout(p=0.5)\n",
    "\n",
    "X = torch.ones(size=(3, 10), requires_grad=True)\n",
    "output = dropout(X)\n",
    "output.retain_grad()\n",
    "\n",
    "print(\"output:\", output)\n",
    "print(\"X:\", X)\n",
    "output.backward(gradient=torch.ones_like(output))\n",
    "print(\"output grad after backprop:\", output.grad)\n",
    "print(\"X grad after backprop:\", X.grad)"
   ]
  },
  {
   "cell_type": "code",
   "execution_count": 2,
   "metadata": {},
   "outputs": [
    {
     "name": "stdout",
     "output_type": "stream",
     "text": [
      "output: node(name: *, val: [[2. 2. 2. 2. 0. 2. 0. 2. 2. 0.]\n",
      " [2. 2. 2. 2. 0. 0. 0. 2. 2. 2.]\n",
      " [2. 2. 0. 2. 0. 2. 0. 2. 2. 0.]], grad: [[0. 0. 0. 0. 0. 0. 0. 0. 0. 0.]\n",
      " [0. 0. 0. 0. 0. 0. 0. 0. 0. 0.]\n",
      " [0. 0. 0. 0. 0. 0. 0. 0. 0. 0.]])\n",
      "X: node(name: x, val: [[1. 1. 1. 1. 1. 1. 1. 1. 1. 1.]\n",
      " [1. 1. 1. 1. 1. 1. 1. 1. 1. 1.]\n",
      " [1. 1. 1. 1. 1. 1. 1. 1. 1. 1.]], grad: [[0. 0. 0. 0. 0. 0. 0. 0. 0. 0.]\n",
      " [0. 0. 0. 0. 0. 0. 0. 0. 0. 0.]\n",
      " [0. 0. 0. 0. 0. 0. 0. 0. 0. 0.]])\n",
      "output grad after backprop: node(name: *, val: [[2. 2. 2. 2. 0. 2. 0. 2. 2. 0.]\n",
      " [2. 2. 2. 2. 0. 0. 0. 2. 2. 2.]\n",
      " [2. 2. 0. 2. 0. 2. 0. 2. 2. 0.]], grad: [[1. 1. 1. 1. 1. 1. 1. 1. 1. 1.]\n",
      " [1. 1. 1. 1. 1. 1. 1. 1. 1. 1.]\n",
      " [1. 1. 1. 1. 1. 1. 1. 1. 1. 1.]])\n",
      "X grad after backprop: node(name: x, val: [[1. 1. 1. 1. 1. 1. 1. 1. 1. 1.]\n",
      " [1. 1. 1. 1. 1. 1. 1. 1. 1. 1.]\n",
      " [1. 1. 1. 1. 1. 1. 1. 1. 1. 1.]], grad: [[2. 2. 2. 2. 0. 2. 0. 2. 2. 0.]\n",
      " [2. 2. 2. 2. 0. 0. 0. 2. 2. 2.]\n",
      " [2. 2. 0. 2. 0. 2. 0. 2. 2. 0.]])\n"
     ]
    }
   ],
   "source": [
    "from jax import numpy as jnp\n",
    "import numpy as np\n",
    "import brunoflow as bf\n",
    "\n",
    "np.random.seed(0)\n",
    "\n",
    "dropout_bf = bf.net.Dropout(p=0.5)\n",
    "dropout_bf.training = True\n",
    "X = bf.Node(jnp.ones(shape=(3, 10)), name=\"x\")\n",
    "\n",
    "output = dropout_bf(X)\n",
    "output.zero_gradients()\n",
    "\n",
    "print(\"output:\", output)\n",
    "print(\"X:\", X)\n",
    "output.backprop()\n",
    "print(\"output grad after backprop:\", output)\n",
    "print(\"X grad after backprop:\", X) # note that the grad is only non-zero for the values that were not dropped out (matches value of output)\n"
   ]
  },
  {
   "cell_type": "code",
   "execution_count": 31,
   "metadata": {},
   "outputs": [
    {
     "data": {
      "text/plain": [
       "DeviceArray(1.0579184, dtype=float32)"
      ]
     },
     "execution_count": 31,
     "metadata": {},
     "output_type": "execute_result"
    }
   ],
   "source": [
    "from brunoflow.net.mlp import MLP\n",
    "np.random.seed(0)\n",
    "m = MLP(10, 5, 2, dropout_prob=0.8)\n",
    "m.eval()\n",
    "inputs = bf.Node(np.random.normal(size=(3, 10)), name=\"x\")\n",
    "m(inputs).backprop()\n",
    "np.mean(inputs.compute_entropy().val)"
   ]
  },
  {
   "cell_type": "code",
   "execution_count": 4,
   "metadata": {},
   "outputs": [
    {
     "data": {
      "text/plain": [
       "<module 'brunoflow.net.mlp' from '/home/kevin/code/rycolab/brunoflow/brunoflow/net/mlp.py'>"
      ]
     },
     "execution_count": 4,
     "metadata": {},
     "output_type": "execute_result"
    }
   ],
   "source": []
  },
  {
   "cell_type": "code",
   "execution_count": null,
   "metadata": {},
   "outputs": [],
   "source": []
  }
 ],
 "metadata": {
  "kernelspec": {
   "display_name": "Python 3.9.15 ('jax-hf')",
   "language": "python",
   "name": "python3"
  },
  "language_info": {
   "codemirror_mode": {
    "name": "ipython",
    "version": 3
   },
   "file_extension": ".py",
   "mimetype": "text/x-python",
   "name": "python",
   "nbconvert_exporter": "python",
   "pygments_lexer": "ipython3",
   "version": "3.9.15"
  },
  "orig_nbformat": 4,
  "vscode": {
   "interpreter": {
    "hash": "b4cc9cc217af6b7e12b7da5c82d5884fde07a0e0f6b7f76767c2fbf53f076f9a"
   }
  }
 },
 "nbformat": 4,
 "nbformat_minor": 2
}
