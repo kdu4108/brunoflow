{
 "cells": [
  {
   "cell_type": "code",
   "execution_count": 2,
   "metadata": {},
   "outputs": [
    {
     "name": "stderr",
     "output_type": "stream",
     "text": [
      "/home/kevin/miniconda3/envs/jax-hf/lib/python3.9/site-packages/tqdm/auto.py:22: TqdmWarning: IProgress not found. Please update jupyter and ipywidgets. See https://ipywidgets.readthedocs.io/en/stable/user_install.html\n",
      "  from .autonotebook import tqdm as notebook_tqdm\n"
     ]
    }
   ],
   "source": [
    "import brunoflow as bf\n",
    "from jax import numpy as jnp\n"
   ]
  },
  {
   "cell_type": "code",
   "execution_count": 3,
   "metadata": {},
   "outputs": [],
   "source": [
    "x = jnp.arange(50).reshape((10, 5))"
   ]
  },
  {
   "cell_type": "code",
   "execution_count": 7,
   "metadata": {},
   "outputs": [
    {
     "name": "stderr",
     "output_type": "stream",
     "text": [
      "/home/kevin/miniconda3/envs/jax-hf/lib/python3.9/site-packages/jax/_src/ops/scatter.py:87: FutureWarning: scatter inputs have incompatible types: cannot safely cast value from dtype=float32 to dtype=int32. In future JAX releases this will result in an error.\n",
      "  warnings.warn(\"scatter inputs have incompatible types: cannot safely cast \"\n"
     ]
    },
    {
     "ename": "AssertionError",
     "evalue": "",
     "output_type": "error",
     "traceback": [
      "\u001b[0;31m---------------------------------------------------------------------------\u001b[0m",
      "\u001b[0;31mAssertionError\u001b[0m                            Traceback (most recent call last)",
      "Cell \u001b[0;32mIn [7], line 2\u001b[0m\n\u001b[1;32m      1\u001b[0m o \u001b[39m=\u001b[39m bf\u001b[39m.\u001b[39mreduce_max(x, axis\u001b[39m=\u001b[39m\u001b[39m0\u001b[39m)\n\u001b[0;32m----> 2\u001b[0m o\u001b[39m.\u001b[39;49mbackprop()\n",
      "File \u001b[0;32m~/code/rycolab/brunoflow/brunoflow/ad/node.py:354\u001b[0m, in \u001b[0;36mNode.backprop\u001b[0;34m(self, values_to_compute, save_leaf_grads_only, verbose)\u001b[0m\n\u001b[1;32m    339\u001b[0m     \u001b[39mprint\u001b[39m(\n\u001b[1;32m    340\u001b[0m         \u001b[39mself\u001b[39m\u001b[39m.\u001b[39mname,\n\u001b[1;32m    341\u001b[0m         \u001b[39m\"\u001b[39m\u001b[39m, num_uses:\u001b[39m\u001b[39m\"\u001b[39m,\n\u001b[0;32m   (...)\u001b[0m\n\u001b[1;32m    350\u001b[0m         \u001b[39mtype\u001b[39m(\u001b[39mself\u001b[39m\u001b[39m.\u001b[39mgrad),\n\u001b[1;32m    351\u001b[0m     )\n\u001b[1;32m    353\u001b[0m \u001b[39mself\u001b[39m\u001b[39m.\u001b[39m__compute_num_uses()\n\u001b[0;32m--> 354\u001b[0m \u001b[39mself\u001b[39;49m\u001b[39m.\u001b[39;49m__backprop(values_to_compute\u001b[39m=\u001b[39;49mvalues_to_compute, verbose\u001b[39m=\u001b[39;49mverbose, save_leaf_grads_only\u001b[39m=\u001b[39;49msave_leaf_grads_only)\n",
      "File \u001b[0;32m~/code/rycolab/brunoflow/brunoflow/ad/node.py:611\u001b[0m, in \u001b[0;36mNode.__backprop\u001b[0;34m(self, values_to_compute, save_leaf_grads_only, verbose)\u001b[0m\n\u001b[1;32m    607\u001b[0m     \u001b[39mself\u001b[39m\u001b[39m.\u001b[39m_compute_and_accumulate_grads_for_inputs(\n\u001b[1;32m    608\u001b[0m         input_vals\u001b[39m=\u001b[39minput_vals, backward_func\u001b[39m=\u001b[39mbackward_func, verbose\u001b[39m=\u001b[39mverbose\n\u001b[1;32m    609\u001b[0m     )\n\u001b[1;32m    610\u001b[0m \u001b[39mif\u001b[39;00m \u001b[39m\"\u001b[39m\u001b[39mmax_grad\u001b[39m\u001b[39m\"\u001b[39m \u001b[39min\u001b[39;00m values_to_compute:\n\u001b[0;32m--> 611\u001b[0m     \u001b[39mself\u001b[39;49m\u001b[39m.\u001b[39;49m_compute_and_accumulate_max_pos_and_neg_grads_for_inputs(\n\u001b[1;32m    612\u001b[0m         input_vals\u001b[39m=\u001b[39;49minput_vals, backward_func\u001b[39m=\u001b[39;49mbackward_func, verbose\u001b[39m=\u001b[39;49mverbose\n\u001b[1;32m    613\u001b[0m     )\n\u001b[1;32m    614\u001b[0m \u001b[39mif\u001b[39;00m \u001b[39m\"\u001b[39m\u001b[39mabs_val_grad\u001b[39m\u001b[39m\"\u001b[39m \u001b[39min\u001b[39;00m values_to_compute:\n\u001b[1;32m    615\u001b[0m     \u001b[39mself\u001b[39m\u001b[39m.\u001b[39m_compute_and_accumulate_abs_val_grads_for_inputs(\n\u001b[1;32m    616\u001b[0m         input_vals\u001b[39m=\u001b[39minput_vals, backward_func\u001b[39m=\u001b[39mbackward_func, verbose\u001b[39m=\u001b[39mverbose\n\u001b[1;32m    617\u001b[0m     )\n",
      "File \u001b[0;32m~/code/rycolab/brunoflow/brunoflow/ad/node.py:405\u001b[0m, in \u001b[0;36mNode._compute_and_accumulate_max_pos_and_neg_grads_for_inputs\u001b[0;34m(self, input_vals, backward_func, verbose)\u001b[0m\n\u001b[1;32m    397\u001b[0m \u001b[39m# Multiply the max neg grad of self w.r.t. output by the local derivative for each input val\u001b[39;00m\n\u001b[1;32m    398\u001b[0m adjoints_max_neg_grad, max_neg_grad_col \u001b[39m=\u001b[39m backward_func(\n\u001b[1;32m    399\u001b[0m     \u001b[39mself\u001b[39m\u001b[39m.\u001b[39mval,\n\u001b[1;32m    400\u001b[0m     \u001b[39mdict\u001b[39m(out_max_neg_grad\u001b[39m=\u001b[39m\u001b[39mself\u001b[39m\u001b[39m.\u001b[39mmax_neg_grad_of_output_wrt_node[\u001b[39m0\u001b[39m]),\n\u001b[1;32m    401\u001b[0m     \u001b[39m*\u001b[39minput_vals,\n\u001b[1;32m    402\u001b[0m     product_fn\u001b[39m=\u001b[39mmax_neg_grad_product_fn,\n\u001b[1;32m    403\u001b[0m )\n\u001b[0;32m--> 405\u001b[0m \u001b[39massert\u001b[39;00m \u001b[39mlen\u001b[39m(input_vals) \u001b[39m==\u001b[39m \u001b[39mlen\u001b[39m(adjoints_max_grad) \u001b[39m==\u001b[39m \u001b[39mlen\u001b[39m(adjoints_max_neg_grad)\n\u001b[1;32m    406\u001b[0m \u001b[39m# Accumulate these adjoints into the gradients for this Node's inputs\u001b[39;00m\n\u001b[1;32m    407\u001b[0m \u001b[39mfor\u001b[39;00m i \u001b[39min\u001b[39;00m \u001b[39mrange\u001b[39m(\u001b[39mlen\u001b[39m(adjoints_max_grad)):\n",
      "\u001b[0;31mAssertionError\u001b[0m: "
     ]
    }
   ],
   "source": [
    "o = bf.reduce_max(x, axis=0)\n",
    "o.backprop()"
   ]
  },
  {
   "cell_type": "code",
   "execution_count": null,
   "metadata": {},
   "outputs": [],
   "source": []
  }
 ],
 "metadata": {
  "kernelspec": {
   "display_name": "Python 3.9.15 ('jax-hf')",
   "language": "python",
   "name": "python3"
  },
  "language_info": {
   "codemirror_mode": {
    "name": "ipython",
    "version": 3
   },
   "file_extension": ".py",
   "mimetype": "text/x-python",
   "name": "python",
   "nbconvert_exporter": "python",
   "pygments_lexer": "ipython3",
   "version": "3.9.15"
  },
  "orig_nbformat": 4,
  "vscode": {
   "interpreter": {
    "hash": "b4cc9cc217af6b7e12b7da5c82d5884fde07a0e0f6b7f76767c2fbf53f076f9a"
   }
  }
 },
 "nbformat": 4,
 "nbformat_minor": 2
}
