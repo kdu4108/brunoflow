{
 "cells": [
  {
   "cell_type": "code",
   "execution_count": 3,
   "metadata": {},
   "outputs": [
    {
     "name": "stdout",
     "output_type": "stream",
     "text": [
      "Running JAX on NVIDIA GeForce RTX 3050 Ti Laptop GPU\n"
     ]
    }
   ],
   "source": [
    "import os\n",
    "import brunoflow as bf\n",
    "import jax\n",
    "from jax import numpy as jnp\n",
    "import numpy as np\n",
    "import unittest as ut\n",
    "print(f\"Running JAX on {jax.devices()[0].device_kind}\")"
   ]
  },
  {
   "cell_type": "code",
   "execution_count": 4,
   "metadata": {},
   "outputs": [],
   "source": [
    "from brunoflow.opt.loss import cross_entropy_loss_raw, cross_entropy_loss"
   ]
  },
  {
   "cell_type": "code",
   "execution_count": 5,
   "metadata": {},
   "outputs": [
    {
     "name": "stdout",
     "output_type": "stream",
     "text": [
      "node(name: (/ (sum (neg (getitem (reshape (- None (expand_dims (+ (log (sum (exp (- None (expand_dims (max None axis=-1) axis=-1))) axis=-1)) (max None axis=-1)) axis=-1)) shape=[-1, 2]) arg=(DeviceArray([0, 1], dtype=int32), DeviceArray([1, 0], dtype=int32)))) axis=None) 2), val: 0.9321238994598389, grad: 1.0)\n",
      "[[ 0.25       -0.25      ]\n",
      " [-0.34498724  0.34498724]] [[1.25      0.75     ]\n",
      " [0.6550127 1.3449872]] [[1.3862944  0.6931472 ]\n",
      " [0.63555574 1.3698597 ]]\n"
     ]
    }
   ],
   "source": [
    "x = bf.Node(jnp.array([[0.5, 0.5], [0.1, 0.9]]))\n",
    "target = bf.Node(jnp.array([1, 0]))\n",
    "loss = cross_entropy_loss(x, target)\n",
    "loss.backprop()\n",
    "print(loss)\n",
    "print(x.grad, x.abs_val_grad, x.entropy_wrt_output)"
   ]
  },
  {
   "cell_type": "code",
   "execution_count": 11,
   "metadata": {},
   "outputs": [
    {
     "name": "stdout",
     "output_type": "stream",
     "text": [
      "node(name: (cross_entropy_loss x), val: 0.9321238994598389, grad: 1.0)\n",
      "[[ 0.25       -0.25      ]\n",
      " [-0.34498724  0.3449872 ]] [[0.25       0.25      ]\n",
      " [0.34498724 0.3449872 ]] [[0.3465736  0.3465736 ]\n",
      " [0.36715192 0.36715195]]\n"
     ]
    }
   ],
   "source": [
    "x = bf.Node(jnp.array([[0.5, 0.5], [0.1, 0.9]]), name=\"x\")\n",
    "target = jnp.array([1, 0])\n",
    "loss = cross_entropy_loss_raw(x, target)\n",
    "loss.backprop()\n",
    "print(loss)\n",
    "print(x.grad, x.abs_val_grad, x.entropy_wrt_output)\n",
    "loss.visualize(save_path=\"cel_graph.png\")"
   ]
  },
  {
   "cell_type": "code",
   "execution_count": 2,
   "metadata": {},
   "outputs": [],
   "source": [
    "from brunoflow.test import utils\n",
    "inputs = utils.random_inputs([[(6, 5)]])\n",
    "fn=lambda x: x[1:3, 1]\n",
    "torch_fn=lambda x: x[1:3, 1]"
   ]
  },
  {
   "cell_type": "code",
   "execution_count": 3,
   "metadata": {},
   "outputs": [
    {
     "data": {
      "text/plain": [
       "[<brunoflow.test.utils.TestInput at 0x7fb9602ca9a0>]"
      ]
     },
     "execution_count": 3,
     "metadata": {},
     "output_type": "execute_result"
    }
   ],
   "source": [
    "inputs"
   ]
  },
  {
   "cell_type": "code",
   "execution_count": 4,
   "metadata": {},
   "outputs": [],
   "source": [
    "for inp in inputs:\n",
    "    x = utils.inputs_to_params(inp)\n",
    "    x_t = utils.inputs_to_torch(inp)\n",
    "    y = fn(*x)\n",
    "    y_t = torch_fn(*x_t)\n",
    "    utils.check(ut.TestCase(), y, y_t)"
   ]
  },
  {
   "cell_type": "code",
   "execution_count": 9,
   "metadata": {},
   "outputs": [
    {
     "data": {
      "text/plain": [
       "array([[0., 0., 0., 0., 0., 0., 0., 0., 0., 0.],\n",
       "       [0., 0., 0., 0., 0., 0., 0., 0., 0., 0.],\n",
       "       [0., 0., 0., 0., 0., 0., 0., 0., 0., 0.],\n",
       "       [0., 0., 0., 0., 0., 0., 0., 0., 0., 0.],\n",
       "       [0., 0., 0., 0., 0., 0., 0., 0., 0., 0.],\n",
       "       [0., 0., 0., 0., 0., 0., 0., 0., 0., 0.],\n",
       "       [0., 0., 0., 0., 0., 0., 0., 0., 0., 0.],\n",
       "       [0., 0., 0., 0., 0., 0., 0., 0., 0., 0.],\n",
       "       [0., 0., 0., 0., 0., 0., 0., 0., 0., 0.],\n",
       "       [0., 0., 0., 0., 0., 0., 0., 0., 0., 0.]])"
      ]
     },
     "execution_count": 9,
     "metadata": {},
     "output_type": "execute_result"
    }
   ],
   "source": [
    "import numpy as np\n",
    "a = bf.Parameter(np.ones((10, 10)))\n",
    "np.zeros_like(a.val)\n",
    "\n",
    "# a"
   ]
  },
  {
   "cell_type": "code",
   "execution_count": null,
   "metadata": {},
   "outputs": [],
   "source": []
  },
  {
   "cell_type": "code",
   "execution_count": 5,
   "metadata": {},
   "outputs": [
    {
     "data": {
      "text/plain": [
       "([node(name: None, val: [[-0.35777008 -0.11910278  1.18416186  0.04687563 -1.92564693]\n",
       "   [ 1.09005847  0.34922955  0.62983513  0.2621987   1.32636705]\n",
       "   [-0.57965284  2.18238234 -0.28184199  0.29220806 -0.94973982]\n",
       "   [-0.40123923  0.09223514 -0.27802103 -1.4646394   1.1170621 ]\n",
       "   [ 0.15621939 -0.18970046 -1.30898383 -0.69910879 -0.23543655]\n",
       "   [-1.29996201  1.96826118 -0.17853028 -1.53830553  0.93935072]], grad: [[0. 0. 0. 0. 0.]\n",
       "   [0. 0. 0. 0. 0.]\n",
       "   [0. 0. 0. 0. 0.]\n",
       "   [0. 0. 0. 0. 0.]\n",
       "   [0. 0. 0. 0. 0.]\n",
       "   [0. 0. 0. 0. 0.]])],\n",
       " [tensor([[-0.3578, -0.1191,  1.1842,  0.0469, -1.9256],\n",
       "          [ 1.0901,  0.3492,  0.6298,  0.2622,  1.3264],\n",
       "          [-0.5797,  2.1824, -0.2818,  0.2922, -0.9497],\n",
       "          [-0.4012,  0.0922, -0.2780, -1.4646,  1.1171],\n",
       "          [ 0.1562, -0.1897, -1.3090, -0.6991, -0.2354],\n",
       "          [-1.3000,  1.9683, -0.1785, -1.5383,  0.9394]], dtype=torch.float64)])"
      ]
     },
     "execution_count": 5,
     "metadata": {},
     "output_type": "execute_result"
    }
   ],
   "source": [
    "x, x_t"
   ]
  },
  {
   "cell_type": "code",
   "execution_count": null,
   "metadata": {},
   "outputs": [],
   "source": []
  }
 ],
 "metadata": {
  "kernelspec": {
   "display_name": "Python 3.9.15 ('jax')",
   "language": "python",
   "name": "python3"
  },
  "language_info": {
   "codemirror_mode": {
    "name": "ipython",
    "version": 3
   },
   "file_extension": ".py",
   "mimetype": "text/x-python",
   "name": "python",
   "nbconvert_exporter": "python",
   "pygments_lexer": "ipython3",
   "version": "3.9.15"
  },
  "orig_nbformat": 4,
  "vscode": {
   "interpreter": {
    "hash": "e140c34e0a267ffc2d97632a88da9d0788950c86e37f3cbf599f33bfe9d6bd4a"
   }
  }
 },
 "nbformat": 4,
 "nbformat_minor": 2
}
